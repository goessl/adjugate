{
 "cells": [
  {
   "cell_type": "markdown",
   "id": "cf41ff61-26ac-4762-bc45-fa49deb0ce47",
   "metadata": {},
   "source": [
    "# adjugate\n",
    "\n",
    "A package for calculating submatricies, minors, adjugate- and cofactor matricies."
   ]
  },
  {
   "cell_type": "code",
   "execution_count": 1,
   "id": "78c08248-d25f-4f15-ba1d-6a073c8f0f26",
   "metadata": {},
   "outputs": [
    {
     "data": {
      "text/plain": [
       "(array([[0.46445212, 0.90776864, 0.5617845 , 0.46365445],\n",
       "        [0.23096052, 0.37817574, 0.19684724, 0.26416446],\n",
       "        [0.8157284 , 0.35109541, 0.29357478, 0.63978973],\n",
       "        [0.97616731, 0.71221494, 0.18073805, 0.7949908 ]]),\n",
       " array([[ 0.04081465, -0.13855441,  0.00220198,  0.0204637 ],\n",
       "        [ 0.01427584, -0.02328107, -0.02248499,  0.01750541],\n",
       "        [ 0.01310092, -0.00671938,  0.02476545, -0.02533861],\n",
       "        [-0.06588407,  0.19251526,  0.01180968, -0.02407058]]))"
      ]
     },
     "execution_count": 1,
     "metadata": {},
     "output_type": "execute_result"
    }
   ],
   "source": [
    "import numpy as np\n",
    "from adjugate import adj\n",
    "\n",
    "M = np.random.rand(4, 4)\n",
    "adjM = adj(M)\n",
    "M, adjM"
   ]
  },
  {
   "cell_type": "markdown",
   "id": "f3564f39-5998-4805-aaba-f269e54930c7",
   "metadata": {},
   "source": [
    "## Installation"
   ]
  },
  {
   "cell_type": "code",
   "execution_count": 2,
   "id": "1b2de14e-0fe8-4802-8d5f-e8c4804caa67",
   "metadata": {},
   "outputs": [
    {
     "name": "stdout",
     "output_type": "stream",
     "text": [
      "Requirement already satisfied: adjugate in c:\\users\\sebas\\appdata\\local\\programs\\python\\python310\\lib\\site-packages (0.9.0)\n",
      "Requirement already satisfied: numpy in c:\\users\\sebas\\appdata\\local\\programs\\python\\python310\\lib\\site-packages (from adjugate) (1.23.2)\n",
      "Note: you may need to restart the kernel to use updated packages.\n"
     ]
    }
   ],
   "source": [
    "pip install adjugate"
   ]
  },
  {
   "cell_type": "markdown",
   "id": "1f9c5ab4-3a86-41a0-b785-ab2e27c63f8f",
   "metadata": {},
   "source": [
    "## Usage\n",
    "\n",
    "This package provides four functions:"
   ]
  },
  {
   "cell_type": "markdown",
   "id": "0bdebd1b-6410-4067-84ff-860b01b57214",
   "metadata": {},
   "source": [
    "### submatrix\n",
    "\n",
    "`submatrix(M, i, j)`\n",
    "\n",
    "Removes the `i`-th row and `j`-th column of `M`. Multiple indices or slices can be provided."
   ]
  },
  {
   "cell_type": "code",
   "execution_count": 3,
   "id": "271159f2-d98e-4f5f-a8fa-b02eed514c10",
   "metadata": {},
   "outputs": [
    {
     "data": {
      "text/plain": [
       "(array([[ 0,  1,  2,  3],\n",
       "        [ 4,  5,  6,  7],\n",
       "        [ 8,  9, 10, 11],\n",
       "        [12, 13, 14, 15]]),\n",
       " array([[ 0,  1,  3],\n",
       "        [ 8,  9, 11],\n",
       "        [12, 13, 15]]))"
      ]
     },
     "execution_count": 3,
     "metadata": {},
     "output_type": "execute_result"
    }
   ],
   "source": [
    "from adjugate import submatrix\n",
    "\n",
    "M = np.arange(16).reshape(4, 4)\n",
    "M, submatrix(M, 1, 2)"
   ]
  },
  {
   "cell_type": "markdown",
   "id": "7c5868fc-ac90-4792-8b9e-038ae979b5e9",
   "metadata": {},
   "source": [
    "### minor\n",
    "\n",
    "`minor(M, i, j)`\n",
    "\n",
    "Calculates the (`i`, `j`) minor of `M`."
   ]
  },
  {
   "cell_type": "code",
   "execution_count": 4,
   "id": "3257af04-e2d6-422b-80c3-980c0e4099bb",
   "metadata": {},
   "outputs": [
    {
     "data": {
      "text/plain": [
       "-0.2140487789380897"
      ]
     },
     "execution_count": 4,
     "metadata": {},
     "output_type": "execute_result"
    }
   ],
   "source": [
    "from adjugate import minor\n",
    "\n",
    "M = np.random.rand(4, 4)\n",
    "minor(M, 1, 2)"
   ]
  },
  {
   "cell_type": "markdown",
   "id": "ff038a2a-cf5b-4351-90cd-de7249e57dc4",
   "metadata": {},
   "source": [
    "### adj\n",
    "\n",
    "`adj(M)`\n",
    "\n",
    "Calculates the adjugate of `M`."
   ]
  },
  {
   "cell_type": "code",
   "execution_count": 5,
   "id": "8d2262ca-f258-44bd-829e-022a7d974b70",
   "metadata": {},
   "outputs": [
    {
     "data": {
      "text/plain": [
       "(array([[0.08665864, 0.99394655, 0.12535963, 0.26405097],\n",
       "        [0.5579125 , 0.86322768, 0.89414941, 0.568058  ],\n",
       "        [0.67013036, 0.84454395, 0.47131153, 0.19339756],\n",
       "        [0.66467323, 0.85295762, 0.13306573, 0.5569822 ]]),\n",
       " array([[-0.23323852, -0.12057808,  0.24929258,  0.14698786],\n",
       "        [ 0.21400119, -0.06933021,  0.09234215, -0.06280701],\n",
       "        [-0.03500821,  0.21404878,  0.04025053, -0.21568468],\n",
       "        [-0.04102134,  0.19892593, -0.44852065,  0.29057721]]))"
      ]
     },
     "execution_count": 5,
     "metadata": {},
     "output_type": "execute_result"
    }
   ],
   "source": [
    "M, adj(M)"
   ]
  },
  {
   "cell_type": "markdown",
   "id": "0161d250-86c3-45c6-a24b-cd4eeb04e171",
   "metadata": {},
   "source": [
    "### cof\n",
    "\n",
    "`cof(M)`\n",
    "\n",
    "Calculates the cofactor matrix of `M`."
   ]
  },
  {
   "cell_type": "code",
   "execution_count": 6,
   "id": "219e79e7-2d85-489d-909a-0c285c2d9a8a",
   "metadata": {},
   "outputs": [
    {
     "data": {
      "text/plain": [
       "(array([[0.08665864, 0.99394655, 0.12535963, 0.26405097],\n",
       "        [0.5579125 , 0.86322768, 0.89414941, 0.568058  ],\n",
       "        [0.67013036, 0.84454395, 0.47131153, 0.19339756],\n",
       "        [0.66467323, 0.85295762, 0.13306573, 0.5569822 ]]),\n",
       " array([[-0.23323852,  0.21400119, -0.03500821, -0.04102134],\n",
       "        [-0.12057808, -0.06933021,  0.21404878,  0.19892593],\n",
       "        [ 0.24929258,  0.09234215,  0.04025053, -0.44852065],\n",
       "        [ 0.14698786, -0.06280701, -0.21568468,  0.29057721]]))"
      ]
     },
     "execution_count": 6,
     "metadata": {},
     "output_type": "execute_result"
    }
   ],
   "source": [
    "from adjugate import cof\n",
    "\n",
    "M, cof(M)"
   ]
  },
  {
   "cell_type": "markdown",
   "id": "bee2d755-596b-4aaf-a117-187bd55da16a",
   "metadata": {},
   "source": [
    "## Speed\n",
    "\n",
    "If you know that you matrix is invertible, then `np.linalg.det(M) * np.linalg.inv(M)` might be a faster choice (O(3) instad of O(5)). But this is in general, especially as the determinant approaches zero, not possible or precise:"
   ]
  },
  {
   "cell_type": "code",
   "execution_count": 7,
   "id": "ab860a15-1297-455b-b60e-43abe8b2c36e",
   "metadata": {},
   "outputs": [
    {
     "data": {
      "image/png": "[encoded data removed]",
      "text/plain": [
       "<Figure size 432x288 with 1 Axes>"
      ]
     },
     "metadata": {
      "needs_background": "light"
     },
     "output_type": "display_data"
    }
   ],
   "source": [
    "import matplotlib.pyplot as plt\n",
    "\n",
    "N = 20\n",
    "dets, errs = [], []\n",
    "for _ in range(10000):\n",
    "    M = np.random.rand(N, N)\n",
    "    dets += [np.linalg.det(M)]\n",
    "    errs += [np.linalg.norm(adj(M)-np.linalg.det(M)*np.linalg.inv(M))]\n",
    "\n",
    "fig, ax = plt.subplots()\n",
    "ax.scatter(dets, errs, marker='o', s=(72./fig.dpi)**2)\n",
    "ax.set_yscale('log')\n",
    "ax.set_xlim(-2, +2)\n",
    "ax.set_ylim(1e-16, 1e-12)\n",
    "ax.set_xlabel('det')\n",
    "ax.set_xlabel('err')\n",
    "plt.show()"
   ]
  }
 ],
 "metadata": {
  "kernelspec": {
   "display_name": "Python 3 (ipykernel)",
   "language": "python",
   "name": "python3"
  },
  "language_info": {
   "codemirror_mode": {
    "name": "ipython",
    "version": 3
   },
   "file_extension": ".py",
   "mimetype": "text/x-python",
   "name": "python",
   "nbconvert_exporter": "python",
   "pygments_lexer": "ipython3",
   "version": "3.10.6"
  }
 },
 "nbformat": 4,
 "nbformat_minor": 5
}
